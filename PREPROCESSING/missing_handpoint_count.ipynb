{
 "cells": [
  {
   "cell_type": "markdown",
   "metadata": {},
   "source": [
    "Firstly we will import all the dependencies "
   ]
  },
  {
   "cell_type": "code",
   "execution_count": 41,
   "metadata": {},
   "outputs": [],
   "source": [
    "import json\n",
    "import os\n",
    "# import shutil\n",
    "# import cv2\n",
    "import numpy as np\n",
    "# import os\n",
    "# from matplotlib import pyplot as plt\n",
    "# import time\n",
    "# import mediapipe as mp\n",
    "# import re"
   ]
  },
  {
   "cell_type": "code",
   "execution_count": null,
   "metadata": {},
   "outputs": [],
   "source": []
  },
  {
   "cell_type": "code",
   "execution_count": null,
   "metadata": {},
   "outputs": [],
   "source": []
  },
  {
   "cell_type": "code",
   "execution_count": null,
   "metadata": {},
   "outputs": [],
   "source": []
  },
  {
   "cell_type": "code",
   "execution_count": null,
   "metadata": {},
   "outputs": [],
   "source": []
  },
  {
   "cell_type": "code",
   "execution_count": null,
   "metadata": {},
   "outputs": [],
   "source": [
    "\n"
   ]
  },
  {
   "cell_type": "code",
   "execution_count": null,
   "metadata": {},
   "outputs": [],
   "source": []
  },
  {
   "cell_type": "code",
   "execution_count": null,
   "metadata": {},
   "outputs": [],
   "source": []
  },
  {
   "cell_type": "markdown",
   "metadata": {},
   "source": [
    "Finding Out the Maximum Sequence Length"
   ]
  },
  {
   "cell_type": "markdown",
   "metadata": {},
   "source": [
    "***Creating Folders according to different types (Right Handedness, Left Handedness, Both, Mouth Utterance etc)***"
   ]
  },
  {
   "cell_type": "code",
   "execution_count": 42,
   "metadata": {},
   "outputs": [],
   "source": [
    "bds_folder = \"../BdSLW60\"\n",
    "numerical_data_path='../NumericalData'"
   ]
  },
  {
   "cell_type": "code",
   "execution_count": 43,
   "metadata": {},
   "outputs": [],
   "source": [
    "\n",
    "specialTargets = {'W7','W20','W41','W44','W46','W50','W94','W98','W211','W216','W217','W356'}\n",
    "PER_FRAME_FEATURE =1629\n",
    "testUser = {'U4','U8'}\n",
    "\n",
    "\n"
   ]
  },
  {
   "cell_type": "code",
   "execution_count": null,
   "metadata": {},
   "outputs": [],
   "source": [
    "\n"
   ]
  },
  {
   "cell_type": "code",
   "execution_count": 44,
   "metadata": {},
   "outputs": [],
   "source": [
    "datas = []\n",
    "word_lists = os.listdir(bds_folder)\n",
    "for word in word_lists:\n",
    "    if word.endswith('.pdf') or word.endswith('.xlsx') or word.endswith('.txt'):\n",
    "        pass \n",
    "    else:\n",
    "        with open(f'{bds_folder}/{word}/output1.json', 'r') as file:\n",
    "            # Step 3: Parse the JSON data into a Python data structure\n",
    "            datas.append(json.load(file))"
   ]
  },
  {
   "cell_type": "code",
   "execution_count": 45,
   "metadata": {},
   "outputs": [
    {
     "name": "stdout",
     "output_type": "stream",
     "text": [
      "missing points count: 5881449  in trials:  9307  Avg per trial:  631.938218545181  Avg per frame:  17.399243851858863  Avg per HAND POINT:  0.4142677107585444\n",
      "missing points IN TARGET WORD TRIALS:  1192947  in trials:  1823  Avg per trial:  654.3867251782775  Avg per Frame:  19.89140113050873 AVG per HAND POINT:  0.4736047888216364\n",
      "Missing hand point percentage (other than special word):  0.4014694881606583\n"
     ]
    }
   ],
   "source": [
    "missing_count =0\n",
    "trial_count=0\n",
    "specialTargets_trial_count=0\n",
    "specialTargets_missing_count=0\n",
    "total_frame_count=0\n",
    "spcialTargets_frame_count=0\n",
    "\n",
    "for data in datas:\n",
    "    for word in data:\n",
    "        for user in data[word]:\n",
    "            for orientation in data[word][user]:\n",
    "                 for fileName in data[word][user][orientation]:\n",
    "                    \n",
    "                    frameRate = data[word][user][orientation][fileName]['FrameRate']\n",
    "                    no_trials = len(data[word][user][orientation][fileName]['trials'])\n",
    "                    \n",
    "                    #override the trial count as sometime that is missing in annotation\n",
    "                    data[word][user][orientation][fileName]['no_of_trials']= no_trials           \n",
    "                    \n",
    "                    \n",
    "                    \n",
    "\n",
    "                    data_path = f'{numerical_data_path}/'\n",
    "                    if user in testUser:\n",
    "                        data_path = data_path+'Test/'\n",
    "                    else:\n",
    "                        data_path = data_path+'Training/'\n",
    "            \n",
    "                    data_path = data_path + orientation\n",
    "                  \n",
    "                    word_path = data_path+'/'+word\n",
    "                    \n",
    "                    user_path = word_path+'/'+user\n",
    "                \n",
    "                \n",
    "                     \n",
    "                    fileName_path = user_path+'/'+fileName\n",
    "                    \n",
    "                    \n",
    "                \n",
    "                    \n",
    "                    \n",
    "                    \n",
    "                        \n",
    "                    \n",
    "                    \n",
    "                    trial_path = fileName_path+'/'\n",
    "                \n",
    "                \n",
    "                    i=0\n",
    "                    for i in range(0,no_trials):\n",
    "                        \n",
    "                        \n",
    "                        trial_folder = trial_path+f't{str(i)}'                                                         \n",
    "                            \n",
    "                        \n",
    "                        starting = data[word][user][orientation][fileName]['trials'][str(i)]['starting']\n",
    "                        ending = data[word][user][orientation][fileName]['trials'][str(i)]['ending']\n",
    "                        \n",
    "                        \n",
    "                        \n",
    "                        \n",
    "                       #do some statistics about missing values\n",
    "                        missing_in_trial=0\n",
    "                        fcount=0\n",
    "                        for frame in range(starting,ending+1):\n",
    "                            #load the npy\n",
    "                            trial_npy_path = trial_folder+'/'+str(frame)+'.npy'\n",
    "                            # print(trial_npy_path)\n",
    "                            npy=np.load(trial_npy_path)\n",
    "                            # npy_matrix=npy.reshape(-1,PER_FRAME_FEATURE)\n",
    "                            fno=1503\n",
    "                            for i in range (0,42):\n",
    "                                if npy[fno] <=0.0 and npy[fno+1] <=0.0 and npy[fno+2] <=0.0:\n",
    "                                    \n",
    "                                    missing_in_trial+=1\n",
    "                                fno+=3\n",
    "                            fcount+=1\n",
    "                        #for loop\n",
    "                        total_frame_count+=fcount\n",
    "                        missing_count+=missing_in_trial\n",
    "                        trial_count+=1\n",
    "                        if word in specialTargets:\n",
    "                            specialTargets_trial_count+=1\n",
    "                            specialTargets_missing_count+=missing_in_trial\n",
    "                            spcialTargets_frame_count+=fcount\n",
    "\n",
    "                        \n",
    "                       \n",
    "\n",
    "                    # end of trial loop\n",
    "\n",
    "print('missing points count:',missing_count,' in trials: ',trial_count, ' Avg per trial: ',missing_count/trial_count,' Avg per frame: ',missing_count/total_frame_count,' Avg per HAND POINT: ',missing_count/(total_frame_count*42))\n",
    "print('missing points IN TARGET WORD TRIALS: ',specialTargets_missing_count,' in trials: ',specialTargets_trial_count,' Avg per trial: ',specialTargets_missing_count/specialTargets_trial_count,' Avg per Frame: ',specialTargets_missing_count/spcialTargets_frame_count, 'AVG per HAND POINT: ',specialTargets_missing_count/(spcialTargets_frame_count*42))\n",
    "print('Missing hand point percentage (other than special word): ',(missing_count-specialTargets_missing_count)/((total_frame_count-spcialTargets_frame_count)*42))                    \n"
   ]
  }
 ],
 "metadata": {
  "kernelspec": {
   "display_name": "Python 3",
   "language": "python",
   "name": "python3"
  },
  "language_info": {
   "codemirror_mode": {
    "name": "ipython",
    "version": 3
   },
   "file_extension": ".py",
   "mimetype": "text/x-python",
   "name": "python",
   "nbconvert_exporter": "python",
   "pygments_lexer": "ipython3",
   "version": "3.10.12"
  },
  "orig_nbformat": 4
 },
 "nbformat": 4,
 "nbformat_minor": 2
}
